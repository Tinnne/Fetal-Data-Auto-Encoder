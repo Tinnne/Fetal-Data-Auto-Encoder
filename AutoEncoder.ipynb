{
 "cells": [
  {
   "cell_type": "markdown",
   "id": "0bc023de",
   "metadata": {},
   "source": [
    "# Fetal Data AutoEncoder"
   ]
  },
  {
   "cell_type": "code",
   "execution_count": null,
   "id": "373bbb11",
   "metadata": {},
   "outputs": [],
   "source": [
    "import pandas as pd\n",
    "import numpy as np\n",
    "import matplotlib.pyplot as plt\n",
    "import seaborn as sns"
   ]
  },
  {
   "cell_type": "code",
   "execution_count": null,
   "id": "4397452a",
   "metadata": {},
   "outputs": [],
   "source": [
    "data = pd"
   ]
  }
 ],
 "metadata": {
  "kernelspec": {
   "display_name": "DL",
   "language": "python",
   "name": "python3"
  },
  "language_info": {
   "name": "python",
   "version": "3.8.20"
  }
 },
 "nbformat": 4,
 "nbformat_minor": 5
}
